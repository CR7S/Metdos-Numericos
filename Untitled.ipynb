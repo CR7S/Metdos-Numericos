{
 "cells": [
  {
   "cell_type": "code",
   "execution_count": 6,
   "metadata": {
    "collapsed": false
   },
   "outputs": [
    {
     "name": "stdout",
     "output_type": "stream",
     "text": [
      "Find the root of a given function - NEWTON RAPHSONS METHOD\n",
      "The function is the following: ...\n",
      "Choose an initial estimate:1\n",
      "Choose max n. iterations:2\n"
     ]
    },
    {
     "ename": "NameError",
     "evalue": "name 'h' is not defined",
     "output_type": "error",
     "traceback": [
      "\u001b[1;31m---------------------------------------------------------------------------\u001b[0m",
      "\u001b[1;31mNameError\u001b[0m                                 Traceback (most recent call last)",
      "\u001b[1;32m<ipython-input-6-e7517026baf5>\u001b[0m in \u001b[0;36m<module>\u001b[1;34m()\u001b[0m\n\u001b[0;32m     22\u001b[0m     \u001b[0mdf\u001b[0m \u001b[1;33m=\u001b[0m \u001b[0mD\u001b[0m\u001b[1;33m(\u001b[0m\u001b[0mf\u001b[0m\u001b[1;33m)\u001b[0m \u001b[1;31m#df is just the first derivative, as before\u001b[0m\u001b[1;33m\u001b[0m\u001b[0m\n\u001b[0;32m     23\u001b[0m \u001b[1;32mfor\u001b[0m \u001b[0mi\u001b[0m \u001b[1;32min\u001b[0m \u001b[0mrange\u001b[0m\u001b[1;33m(\u001b[0m\u001b[0mmax_n_iterations\u001b[0m\u001b[1;33m)\u001b[0m\u001b[1;33m:\u001b[0m \u001b[1;31m#The code runs until the maximum number of iterations  is reached\u001b[0m\u001b[1;33m\u001b[0m\u001b[0m\n\u001b[1;32m---> 24\u001b[1;33m     \u001b[0mx1\u001b[0m \u001b[1;33m=\u001b[0m \u001b[0mx\u001b[0m \u001b[1;33m-\u001b[0m \u001b[0mf\u001b[0m\u001b[1;33m(\u001b[0m\u001b[0mx\u001b[0m\u001b[1;33m)\u001b[0m\u001b[1;33m/\u001b[0m\u001b[0mdf\u001b[0m\u001b[1;33m(\u001b[0m\u001b[0mx\u001b[0m\u001b[1;33m,\u001b[0m \u001b[0mh\u001b[0m\u001b[1;33m)\u001b[0m \u001b[1;31m#Essence of Newton Raphson method: the iteration process\u001b[0m\u001b[1;33m\u001b[0m\u001b[0m\n\u001b[0m\u001b[0;32m     25\u001b[0m     \u001b[0mapproximations\u001b[0m\u001b[1;33m.\u001b[0m\u001b[0mappend\u001b[0m\u001b[1;33m(\u001b[0m\u001b[0mx\u001b[0m\u001b[1;33m)\u001b[0m \u001b[1;31m#Every intermediate solution is collected into a vector, as  defined above\u001b[0m\u001b[1;33m\u001b[0m\u001b[0m\n\u001b[0;32m     26\u001b[0m     \u001b[0miterations\u001b[0m\u001b[1;33m.\u001b[0m\u001b[0mappend\u001b[0m\u001b[1;33m(\u001b[0m\u001b[1;36m1\u001b[0m\u001b[1;33m)\u001b[0m\u001b[1;33m\u001b[0m\u001b[0m\n",
      "\u001b[1;31mNameError\u001b[0m: name 'h' is not defined"
     ]
    }
   ],
   "source": [
    "#This exercise shows an immediate way to find the root of a real valued funciton, using   successive better approximations\n",
    "#This method is known as Newton Raphson method\n",
    "\n",
    "print 'Find the root of a given function - NEWTON RAPHSONS METHOD'\n",
    "print 'The function is the following: ...'\n",
    "df=0\n",
    "x=input('Choose an initial estimate:') #An initial estimate is necessary to be choosen   to start the iteration process\n",
    "x=float(x) #The number inserted is transformed into a floating point number\n",
    "max_n_iterations=input('Choose max n. iterations:') #The user decides the maximum number   of iterations to run\n",
    "approximations = [] #Vector collecting all the intermediate solutions; i.e. the  approximated roots evaluated before reaching the final solution \n",
    "iterations= []\n",
    "\n",
    "def f(x):  #The given function has to be inserted manually in the code\n",
    "    return 2*x**3+45*x+1/x**2+16\n",
    "\n",
    "def D(f):  #Evaluates the first derivative of the given function, using the definition of derivative \n",
    "    def df(x, h): #x is the initial estimate, h is the increment\n",
    "        return (f(x+h) - f(x))/h #Difference quotient\n",
    "    return df #First derivative\n",
    "\n",
    "def newtons_method(f, x, h=0.000001, epsilon=0.000001,): #This is the main process: f is  the given function, x and h are the same as above, epsilon is the tolerance level. Epsilon  and h have to be choosen sufficiently small\n",
    "    df = D(f) #df is just the first derivative, as before\n",
    "for i in range(max_n_iterations): #The code runs until the maximum number of iterations  is reached\n",
    "    x1 = x - f(x)/df(x, h) #Essence of Newton Raphson method: the iteration process\n",
    "    approximations.append(x) #Every intermediate solution is collected into a vector, as  defined above\n",
    "    iterations.append(1)\n",
    "    if abs(x1 - x) < epsilon: #When the absolute difference between two successive roots  is less than the tolerance level (i.e. the sequence of solutions strongly converges), the  program exists the cycle\n",
    "        break\n",
    "    x = x1 #The next solution becomes the starting solution in the new cycle\n",
    "return x #Final solution\n",
    "\n",
    "def final_solution(): #The final solution from the Newton Raphson method\n",
    "    return newtons_method(f,x) \n",
    "\n",
    "df=D(f) #These values have to be inserted again to allow the execution of the final step\n",
    "h=0.000001\n",
    "epsilon=0.000001\n",
    "x=newtons_method(f,x)\n",
    "\n",
    "if abs((x-f(x)/df(x,h))-x) < epsilon: #If (strong) convergence has been reached\n",
    "   print 'Solution is:', final_solution() #Prints the final solution\n",
    "   print 'Approximations before reaching convergence:', approximations #Prints the vector of intermediate solutions\n",
    "   print 'Convergence has been reached after', len(iterations), 'iterations'\n",
    "   print 'Newton Raphson method was successful!'\n",
    "elif abs((x-f(x)/df(x,h))-x) >= epsilon: #If (strong) convergence has not been reached\n",
    "   print 'Approximated solution is:', final_solution()\n",
    "   print 'Approximations evaluated:', approximations\n",
    "   print 'Convergence has not been reached after', max_n_iterations, 'iterations'\n",
    "   print 'Newton Raphson method was not successful'"
   ]
  },
  {
   "cell_type": "code",
   "execution_count": null,
   "metadata": {
    "collapsed": true
   },
   "outputs": [],
   "source": []
  }
 ],
 "metadata": {
  "kernelspec": {
   "display_name": "Python 2",
   "language": "python",
   "name": "python2"
  },
  "language_info": {
   "codemirror_mode": {
    "name": "ipython",
    "version": 2
   },
   "file_extension": ".py",
   "mimetype": "text/x-python",
   "name": "python",
   "nbconvert_exporter": "python",
   "pygments_lexer": "ipython2",
   "version": "2.7.11"
  }
 },
 "nbformat": 4,
 "nbformat_minor": 0
}
