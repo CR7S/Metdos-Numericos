{
 "cells": [
  {
   "cell_type": "code",
   "execution_count": 3,
   "metadata": {
    "collapsed": false
   },
   "outputs": [
    {
     "ename": "IndentationError",
     "evalue": "expected an indented block (<ipython-input-3-28e6f30af7ce>, line 19)",
     "output_type": "error",
     "traceback": [
      "\u001b[1;36m  File \u001b[1;32m\"<ipython-input-3-28e6f30af7ce>\"\u001b[1;36m, line \u001b[1;32m19\u001b[0m\n\u001b[1;33m    \"\"\"\u001b[0m\n\u001b[1;37m       \n^\u001b[0m\n\u001b[1;31mIndentationError\u001b[0m\u001b[1;31m:\u001b[0m expected an indented block\n"
     ]
    }
   ],
   "source": [
    "\"\"\"\n",
    "Bisection, Secant & Newton Raphson Method.\n",
    "\"\"\"\n",
    "\n",
    "import math\n",
    "\"\"\"\n",
    "* Variable Description:\n",
    "*\n",
    "* f\t\t\t:\tGiven function\n",
    "* f_\t\t:\tDerivative of f\n",
    "* [a, b]\t:\tEnd point values\n",
    "* TOL\t\t:\tTolerance\n",
    "* NMAX\t\t:\tMax number of iterations\n",
    "\"\"\"\n",
    "\n",
    "\n",
    "def bisection(f, a, b, TOL=0.001, NMAX=100):\n",
    "\t\"\"\"\n",
    "\tTakes a function f, start values [a,b], tolerance value(optional) TOL and\n",
    "\tmax number of iterations(optional) NMAX and returns the root of the equation\n",
    "\tusing the bisection method.\n",
    "\t\"\"\"\n",
    "\tn=1\n",
    "\twhile n<=NMAX:\n",
    "\t\tc = (a+b)/2.0\n",
    "\t\tprint \"a=%s\\tb=%s\\tc=%s\\tf(c)=%s\"%(a,b,c,f(c))\n",
    "\t\tif f(c)==0 or (b-a)/2.0 < TOL:\n",
    "\t\t\treturn c\n",
    "\t\telse:\n",
    "\t\t\tn = n+1\n",
    "\t\t\tif f(c)*f(a) > 0:\n",
    "\t\t\t\ta=c\n",
    "\t\t\telse:\n",
    "\t\t\t\tb=c\n",
    "\treturn False\n",
    "\n",
    "def secant(f,x0,x1, TOL=0.001, NMAX=100):\n",
    "\t\"\"\"\n",
    "\tTakes a function f, start values [x0,x1], tolerance value(optional) TOL and\n",
    "\tmax number of iterations(optional) NMAX and returns the root of the equation\n",
    "\tusing the secant method.\n",
    "\t\"\"\"\n",
    "\tn=1\n",
    "\twhile n<=NMAX:\n",
    "\t\tx2 = x1 - f(x1)*((x1-x0)/(f(x1)-f(x0)))\n",
    "\t\tif x2-x1 < TOL:\n",
    "\t\t\treturn x2\n",
    "\t\telse:\n",
    "\t\t\tx0 = x1\n",
    "\t\t\tx1 = x2\n",
    "\treturn False\n",
    "\n",
    "def newtonraphson(f, f_, x0, TOL=0.001, NMAX=100):\n",
    "\t\"\"\"\n",
    "\tTakes a function f, its derivative f_, initial value x0, tolerance value(optional) TOL and\n",
    "\tmax number of iterations(optional) NMAX and returns the root of the equation\n",
    "\tusing the newton-raphson method.\n",
    "\t\"\"\"\n",
    "\tn=1\n",
    "\twhile n<=NMAX:\n",
    "\t\tx1 = x0 - (f(x0)/f_(x0))\n",
    "\t\tif x1 - x0 < TOL:\n",
    "\t\t\treturn x1\n",
    "\t\telse:\n",
    "\t\t\tx0 = x1\n",
    "\treturn False\n",
    "\n",
    "if __name__ == \"__main__\":\n",
    "\t\n",
    "\tdef func(x):\n",
    "\t\"\"\"\n",
    "\tFunction x^3 - x -2\n",
    "\tWe will calculate the root of this function using different methods.\n",
    "\t\"\"\"\n",
    "\t\treturn math.pow(x,3) - x -2\n",
    "\n",
    "\tdef func_(x):\n",
    "\t\"\"\"\n",
    "\tDerivate of the function f(x) = x^3 - x -2\n",
    "\tThis will be used in Newton-Rahson method.\n",
    "\t\"\"\"\n",
    "\t\treturn 3*math.pow(x,2)-1\n",
    "\t\n",
    "\t#Invoking Bisection Method\n",
    "\tres = bisection(func,1,2).\n",
    "\tprint res\n",
    "\t\n",
    "\t#Invoking Secant Method\n",
    "\tres = bisection(func,1,2).\n",
    "\tprint res\n",
    "\t\n",
    "\t#Invoking Newton Raphson Method\n",
    "\tres = newtonraphson(func,func_,1)\n",
    "\tprint res\n"
   ]
  },
  {
   "cell_type": "code",
   "execution_count": null,
   "metadata": {
    "collapsed": true
   },
   "outputs": [],
   "source": []
  }
 ],
 "metadata": {
  "kernelspec": {
   "display_name": "Python 2",
   "language": "python",
   "name": "python2"
  },
  "language_info": {
   "codemirror_mode": {
    "name": "ipython",
    "version": 2
   },
   "file_extension": ".py",
   "mimetype": "text/x-python",
   "name": "python",
   "nbconvert_exporter": "python",
   "pygments_lexer": "ipython2",
   "version": "2.7.11"
  }
 },
 "nbformat": 4,
 "nbformat_minor": 0
}
