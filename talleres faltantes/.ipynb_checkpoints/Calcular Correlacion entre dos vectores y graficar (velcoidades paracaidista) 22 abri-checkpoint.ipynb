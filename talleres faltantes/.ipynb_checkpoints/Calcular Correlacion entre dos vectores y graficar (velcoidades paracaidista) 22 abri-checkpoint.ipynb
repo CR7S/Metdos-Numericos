{
 "cells": [
  {
   "cell_type": "markdown",
   "metadata": {},
   "source": [
    "\n",
    "# este es enlace de la clase del 22 de Abril "
   ]
  },
  {
   "cell_type": "markdown",
   "metadata": {},
   "source": [
    "https://github.com/CR7S/Metdos-Numericos/blob/master/velocidad%20medidas%20y%20calculadas%20para%20la%20caida%20del%20paracaidista.ipynb\n",
    "    "
   ]
  }
 ],
 "metadata": {
  "kernelspec": {
   "display_name": "Python 2",
   "language": "python",
   "name": "python2"
  },
  "language_info": {
   "codemirror_mode": {
    "name": "ipython",
    "version": 2
   },
   "file_extension": ".py",
   "mimetype": "text/x-python",
   "name": "python",
   "nbconvert_exporter": "python",
   "pygments_lexer": "ipython2",
   "version": "2.7.11"
  }
 },
 "nbformat": 4,
 "nbformat_minor": 0
}
