{
 "cells": [
  {
   "cell_type": "code",
   "execution_count": 4,
   "metadata": {
    "collapsed": false
   },
   "outputs": [
    {
     "name": "stdout",
     "output_type": "stream",
     "text": [
      "|Término   |  Xu                   |  Xl                  |  Xr                  ||  F(xr)               |\n",
      "\n",
      "|         1 |                    20 |                   12 |                    0 |\n",
      "|         2 |         15.3345076809 |                   12 |        15.3345076809 |       -1.08916727466 |\n",
      "|         3 |         14.8233144932 |                   12 |        14.8233144932 |      -0.117932505516 |\n",
      "|         4 |         14.7690279631 |                   12 |        14.7690279631 |     -0.0125024137368 |\n",
      "|         5 |         14.7632848056 |                   12 |        14.7632848056 |     -0.0013224247421 |\n",
      "|         6 |         14.7626774649 |                   12 |        14.7626774649 |   -0.000139844035786 |\n",
      "|         7 |         14.7626132412 |                   12 |        14.7626132412 |    -1.4787880076e-05 |\n",
      "|         8 |         14.7626064499 |                   12 |        14.7626064499 |   -1.56374785831e-06 |\n",
      "|         9 |         14.7626057317 |                   12 |        14.7626057317 |   -1.65358841286e-07 |\n",
      "|        10 |         14.7626056558 |                   12 |        14.7626056558 |   -1.74859096091e-08 |\n",
      "|        11 |         14.7626056477 |                   12 |        14.7626056477 |   -1.84903825584e-09 |\n",
      "|        12 |         14.7626056469 |                   12 |        14.7626056469 |   -1.95534255454e-10 |\n",
      "|        13 |         14.7626056468 |                   12 |        14.7626056468 |   -2.06767936106e-11 |\n",
      "|        14 |         14.7626056468 |                   12 |        14.7626056468 |   -2.18136619878e-12 |\n",
      "|        15 |         14.7626056468 |                   12 |        14.7626056468 |   -2.27373675443e-13 |\n",
      "|        16 |         14.7626056468 |                   12 |        14.7626056468 |   -2.84217094304e-14 |\n",
      "|        17 |         14.7626056468 |                   12 |        14.7626056468 |    -7.1054273576e-15 |\n",
      "|        18 |         14.7626056468 |        14.7626056468 |        14.7626056468 |     7.1054273576e-15 |\n",
      "\n",
      "LA RAIZ ESTA EN  t = 14.762606\n"
     ]
    }
   ],
   "source": [
    "def funcion(c):\n",
    "    g = 9.8\n",
    "    m = 68.1\n",
    "    e = 2.71\n",
    "    v = 40\n",
    "    t = 10\n",
    "    \n",
    "    return ((g*m/c)*(1-e**(-(c/m)*t))-v)\n",
    "\n",
    "xl = 12\n",
    "xu = 20\n",
    "xr = 0\n",
    "ter = 0\n",
    "print '|{0:10} |  {1:20} | {2:20} | {3:20} || {4:20} |'.format('Término','Xu',' Xl',' Xr ',' F(xr)')\n",
    "print \n",
    "while True:\n",
    "    ter += 1\n",
    "    if (xr!=0):\n",
    "        print '|{0:10} |  {1:20} | {2:20} | {3:20} | {4:20} |'.format(ter, xu, xl, xr, funcion(xr))\n",
    "    else :\n",
    "        print '|{0:10} |  {1:20} | {2:20} | {3:20} |'.format(ter, xu, xl, xr)\n",
    "    if (funcion(xl)*funcion(xu)<0):\n",
    "        xr = xu-((funcion(xu)*(xl-xu))/(funcion(xl)-funcion(xu)))\n",
    "        if (funcion(xl)*funcion(xr)<0):\n",
    "            xu = xr\n",
    "            continue\n",
    "        if (funcion(xl)*funcion(xr)>0):\n",
    "            xl = xr\n",
    "            continue\n",
    "        if (funcion(xl)*funcion(xr)==0):\n",
    "            print(\"\")\n",
    "            print (\"LA RAIZ ESTA EN  t = %f\" %(xr))\n",
    "            break\n",
    "    else:\n",
    "        break"
   ]
  },
  {
   "cell_type": "code",
   "execution_count": null,
   "metadata": {
    "collapsed": true
   },
   "outputs": [],
   "source": []
  }
 ],
 "metadata": {
  "kernelspec": {
   "display_name": "Python 2",
   "language": "python",
   "name": "python2"
  },
  "language_info": {
   "codemirror_mode": {
    "name": "ipython",
    "version": 2
   },
   "file_extension": ".py",
   "mimetype": "text/x-python",
   "name": "python",
   "nbconvert_exporter": "python",
   "pygments_lexer": "ipython2",
   "version": "2.7.11"
  }
 },
 "nbformat": 4,
 "nbformat_minor": 0
}
