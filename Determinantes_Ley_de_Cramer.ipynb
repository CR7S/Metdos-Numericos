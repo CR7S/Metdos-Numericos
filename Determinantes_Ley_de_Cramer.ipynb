{
 "cells": [
  {
   "cell_type": "code",
   "execution_count": 13,
   "metadata": {
    "collapsed": false
   },
   "outputs": [
    {
     "name": "stdout",
     "output_type": "stream",
     "text": [
      "Digite: Columna 1 fila 1 :2\n",
      "Digite: Columna 1 fila 2 :3\n",
      "Digite: Columna 1 fila 3 :2\n",
      "Digite: Columna 2 fila 1 :4\n",
      "Digite: Columna 2 fila 2 :2\n",
      "Digite: Columna 2 fila 3 :-2\n",
      "Digite: Columna 3 fila 1 :3\n",
      "Digite: Columna 3 fila 2 :-2\n",
      "Digite: Columna 3 fila 3 :3\n",
      "Digite: valor 1 :13\n",
      "Digite: valor 2 :14\n",
      "Digite: valor 3 :0\n",
      "valor del determinante : -78\n",
      "valor de la variable0 es :2\n",
      "valor de la variable1 es :3\n",
      "valor de la variable2 es :0\n"
     ]
    }
   ],
   "source": [
    "import math\n",
    "valores=[]\n",
    "valores2=[]\n",
    "valor=[]\n",
    "def determinante(x):\n",
    "    x=(valores[0]*((valores[4]*valores[8])-(valores[7]*valores[5])))\n",
    "    x1=(valores[1]*((valores[3]*valores[8])-(valores[6]*valores[5])))\n",
    "    x2=(valores[2]*((valores[3]*valores[7])-(valores[4]*valores[6])))\n",
    "    l=x-x1+x2\n",
    "    return l\n",
    "def reecribir(lo):\n",
    "    valores[lo]=valor[0]\n",
    "    lo=lo+3\n",
    "    valores[lo]=valor[1]\n",
    "    lo=lo+3\n",
    "    valores[lo]=valor[2]\n",
    "    return l\n",
    "\n",
    "for i in [1, 2,3]:\n",
    "    for j in [1, 2, 3]:\n",
    "        n=int(input(\"Digite: Columna \"+str(i)+\" fila \"+str(j)+\" :\"))\n",
    "        valores.append(n)\n",
    "        valores2.append(n)\n",
    "for i in [1, 2, 3]:\n",
    "    n=int(input(\"Digite: valor \"+str(i)+\" :\"))\n",
    "    valor.append(n)\n",
    "    \n",
    "l=determinante(valores)\n",
    "print \"valor del determinante : \"+str(l)\n",
    "for i in [0, 1, 2]:\n",
    "    reecribir(i)\n",
    "    p=determinante(valores)/l\n",
    "    valores=valores2\n",
    "    print \"valor de la variable \"+str(i)+\" es :\"+str(p)\n",
    "\n"
   ]
  },
  {
   "cell_type": "code",
   "execution_count": null,
   "metadata": {
    "collapsed": true
   },
   "outputs": [],
   "source": []
  }
 ],
 "metadata": {
  "kernelspec": {
   "display_name": "Python 2",
   "language": "python",
   "name": "python2"
  },
  "language_info": {
   "codemirror_mode": {
    "name": "ipython",
    "version": 2
   },
   "file_extension": ".py",
   "mimetype": "text/x-python",
   "name": "python",
   "nbconvert_exporter": "python",
   "pygments_lexer": "ipython2",
   "version": "2.7.11"
  }
 },
 "nbformat": 4,
 "nbformat_minor": 0
}
