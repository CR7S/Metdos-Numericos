{
 "cells": [
  {
   "cell_type": "code",
   "execution_count": 15,
   "metadata": {
    "collapsed": false
   },
   "outputs": [
    {
     "name": "stdout",
     "output_type": "stream",
     "text": [
      "El determinante de la matriz de coeficientes es: 0.86\n",
      "Eliminacion de incognitas: \n",
      "    El valor de X1 es= 404.6512\n",
      "    El valor de X2 es= 56.5116\n"
     ]
    }
   ],
   "source": [
    "import math\n",
    "import pylab as plt\n",
    "vectory=[];\n",
    "res=0\n",
    "otro=0\n",
    "vectorx=[]\n",
    "vectory=[]\n",
    "vectorx1=[]\n",
    "vectory1=[]\n",
    "for t in range(1500):\n",
    "    t=t+0.5\n",
    "    x1=float(format((0.11*t)+12.0, '.4g'))\n",
    "    vectorx.append(x1)\n",
    "    vectory.append(t)\n",
    "    x2=float(format(((2.0/17.4)*t)+10, '.4g'))\n",
    "    vectorx1.append(x2)\n",
    "    vectory1.append(t)\n",
    "    if x1==x2:\n",
    "        otro=x1\n",
    "\n",
    "plt.plot(vectory1,vectorx1,'r',linewidth=2)\n",
    "plt.plot(vectory,vectorx,'g',linewidth=2)\n",
    "plt.hold(True)\n",
    "plt.axis([380,430,50,60])\n",
    "plt.xlabel('x1')\n",
    "plt.ylabel('x2')\n",
    "plt.title('Grafica Ecuacion Lineal')\n",
    "plt.grid(True)\n",
    "plt.savefig(\"test.png\")\n",
    "plt.legend(loc='lower right')\n",
    "plt.show()\n",
    "\n",
    "#determinante\n",
    "matrizCoef=[[-1.1,10],[-2,17.4]]\n",
    "det=matrizCoef[0][0]*matrizCoef[1][1]-matrizCoef[0][1]*matrizCoef[1][0]\n",
    "print \"El determinante de la matriz de coeficientes es: %.2f\" %det\n",
    "aux=[]\n",
    "sol=[120,174]\n",
    "aux2=[]\n",
    "for i in range(len(matrizCoef)):\n",
    "    aux.append([])\n",
    "    if(i==0):\n",
    "        for j in range(len(matrizCoef[0])):\n",
    "            aux[i].append(matrizCoef[1][0]*matrizCoef[i][j])\n",
    "        aux2.append(matrizCoef[1][0]*sol[i])\n",
    "    else:\n",
    "        for j in range(len(matrizCoef[1])):\n",
    "            aux[i].append(matrizCoef[0][0]*matrizCoef[i][j])\n",
    "        aux2.append(matrizCoef[0][0]*sol[i])\n",
    "print \"Eliminacion de incognitas: \"\n",
    "var2=(aux2[0]-aux2[1])/(aux[0][1]-aux[1][1])\n",
    "var1=(sol[0]-matrizCoef[0][1]*var2)/matrizCoef[0][0]\n",
    "print \"    El valor de X1 es= %.4f\" %var1\n",
    "print \"    El valor de X2 es= %.4f\" %var2"
   ]
  }
 ],
 "metadata": {
  "kernelspec": {
   "display_name": "Python 2",
   "language": "python",
   "name": "python2"
  },
  "language_info": {
   "codemirror_mode": {
    "name": "ipython",
    "version": 2
   },
   "file_extension": ".py",
   "mimetype": "text/x-python",
   "name": "python",
   "nbconvert_exporter": "python",
   "pygments_lexer": "ipython2",
   "version": "2.7.11"
  }
 },
 "nbformat": 4,
 "nbformat_minor": 0
}
