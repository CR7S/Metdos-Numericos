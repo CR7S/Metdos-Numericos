{
 "cells": [
  {
   "cell_type": "code",
   "execution_count": 59,
   "metadata": {
    "collapsed": false
   },
   "outputs": [
    {
     "name": "stdout",
     "output_type": "stream",
     "text": [
      "|tiempo          | valor esperado  | lineal          | cuadrado        |\n",
      "|              1 |             0.0 | -0.358351893846 |             0.0 |\n",
      "|              2 |   0.69314718056 |  0.473424722826 |  0.565844346901 |\n",
      "|              3 |   1.09861228867 |  0.959982852556 |   1.02794246727 |\n",
      "|              4 |   1.38629436112 |    1.3052013395 |   1.38629436112 |\n",
      "|              5 |   1.60943791243 |   1.57297360108 |   1.64090002844 |\n",
      "|              6 |   1.79175946923 |   1.79175946923 |   1.79175946923 |\n",
      "|              7 |   1.94591014906 |   1.97674028502 |   1.83887268349 |\n",
      "|              8 |   2.07944154168 |   2.13697795617 |   1.78223967123 |\n",
      "|              9 |   2.19722457734 |   2.27831759896 |   1.62186043243 |\n",
      "|             10 |   2.30258509299 |   2.40475021775 |   1.35773496711 |\n"
     ]
    }
   ],
   "source": [
    "\n",
    "\n",
    "import math\n",
    "import pylab as plt\n",
    "vertorx1=[];\n",
    "vectory1=[];\n",
    "vectorx=[]\n",
    "vectory=[]\n",
    "vectory2=[]\n",
    "v=0\n",
    "def f(lo):\n",
    "    l=math.log(lo)\n",
    "    return l\n",
    "print '|{0:15} | {1:15} | {2:15} | {3:15} |'.format(\"tiempo\",\"valor esperado\",\"lineal\",\"cuadrado\")\n",
    "for t in range(10):\n",
    "    v=math.log(t+1)\n",
    "    \n",
    "    #interpolacion lineal\n",
    "    fx=f(t+1)+((f(6)-f(t+1))/(5))*((t+2)-(t+3))\n",
    "    vectory2.append(fx)\n",
    "    \n",
    "    vectorx.append(t)\n",
    "    vectory.append(v)\n",
    "    #interpolacion cuadratica\n",
    "    b0=0\n",
    "    b1=(f(4)-f(1))/(4-1)\n",
    "    b2=(((f(6)-f(4))/2)-((f(4)-f(1))/3))/5\n",
    "    fx2=b0+(b1*(t))+(b2*(t)*(t-3))\n",
    "    print '|{0:15} | {1:15} | {2:15} | {3:15} |'.format(t+1,f(t+1),fx,fx2)\n",
    "    vectory1.append(fx2)\n",
    "plt.plot(vectorx,vectory,'g')\n",
    "plt.plot(vectorx,vectory2,'*')\n",
    "plt.plot(vectorx,vectory1,'.')\n",
    "plt.xlabel('x')\n",
    "plt.ylabel('ln(x)')\n",
    "plt.title('logaritmo')\n",
    "plt.grid(True)\n",
    "plt.savefig(\"test.png\")\n",
    "plt.show()"
   ]
  },
  {
   "cell_type": "code",
   "execution_count": null,
   "metadata": {
    "collapsed": true
   },
   "outputs": [],
   "source": []
  }
 ],
 "metadata": {
  "kernelspec": {
   "display_name": "Python 2",
   "language": "python",
   "name": "python2"
  },
  "language_info": {
   "codemirror_mode": {
    "name": "ipython",
    "version": 2
   },
   "file_extension": ".py",
   "mimetype": "text/x-python",
   "name": "python",
   "nbconvert_exporter": "python",
   "pygments_lexer": "ipython2",
   "version": "2.7.11"
  }
 },
 "nbformat": 4,
 "nbformat_minor": 0
}
