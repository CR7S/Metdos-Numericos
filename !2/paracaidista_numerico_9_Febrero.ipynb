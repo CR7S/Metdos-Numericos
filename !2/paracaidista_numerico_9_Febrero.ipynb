{
 "cells": [
  {
   "cell_type": "markdown",
   "metadata": {},
   "source": [
    "# sdadasdasdasd\n"
   ]
  },
  {
   "cell_type": "code",
   "execution_count": 6,
   "metadata": {
    "collapsed": false
   },
   "outputs": [
    {
     "name": "stdout",
     "output_type": "stream",
     "text": [
      "metodo numerico: 19.6\n",
      "metodo numerico: 32.0046989721\n",
      "metodo numerico: 39.855543696\n",
      "metodo numerico: 44.8242868326\n",
      "metodo numerico: 47.9689686121\n",
      "metodo numerico: 49.9592150834\n",
      "metodo numerico: 51.2188277547\n",
      "metodo numerico: 52.0160275511\n",
      "metodo numerico: 52.5205695661\n",
      "metodo numerico: 52.8398905771\n",
      "metodo numerico: 53.0419865473\n",
      "metodo numerico: 53.1698916327\n",
      "metodo numerico: 53.250841841\n",
      "metodo numerico: 53.3020746453\n",
      "metodo numerico: 53.3344995186\n",
      "metodo numerico: 53.3550209875\n",
      "metodo numerico: 53.3680088776\n",
      "metodo numerico: 53.3762288197\n",
      "metodo numerico: 53.381431162\n",
      "metodo numerico: 53.3847236869\n",
      "metodo numerico: 53.3868075023\n",
      "metodo numerico: 53.3881263341\n",
      "metodo numerico: 53.3889610132\n",
      "metodo numerico: 53.3894892756\n",
      "metodo numerico: 53.3898236091\n",
      "metodo numerico: 53.3900352063\n",
      "metodo numerico: 53.3901691247\n",
      "metodo numerico: 53.3902538807\n",
      "metodo numerico: 53.3903075221\n",
      "metodo numerico: 53.3903414714\n"
     ]
    }
   ],
   "source": [
    "import math\n",
    "import pylab as plt\n",
    "vertorx1=[];\n",
    "vectory1=[];\n",
    "vectorx=[]\n",
    "vectory=[]\n",
    "ver=0\n",
    "g=9.8\n",
    "m=68.1\n",
    "c=12.5\n",
    "ti=0\n",
    "tii=0\n",
    "v_an=0\n",
    "for t in range(30):\n",
    "    v=((g*m)/c)*(1-math.exp((-c/m)*t))\n",
    "    vectorx.append(t)\n",
    "    vectory.append(v)\n",
    "    ti=ti+2\n",
    "    vertorx1.append(ti);\n",
    "    vectory1.append(ver);\n",
    "    ver=round(v_an,2)\n",
    "    v_n=v_an+(g-(c/m)*v_an)*(ti-tii)\n",
    "    v_an=v_n\n",
    "    tii=ti\n",
    "    print (\"metodo numerico: \"+str(v_an))\n",
    "plt.plot(vertorx1,vectory1,'g')\n",
    "plt.plot(vectorx,vectory,'*')\n",
    "plt.xlabel('(t)')\n",
    "plt.ylabel('V(t)')\n",
    "plt.title('Paracaidista')\n",
    "plt.grid(True)\n",
    "plt.savefig(\"test.png\")\n",
    "#plt.show()"
   ]
  },
  {
   "cell_type": "code",
   "execution_count": null,
   "metadata": {
    "collapsed": true
   },
   "outputs": [],
   "source": []
  }
 ],
 "metadata": {
  "kernelspec": {
   "display_name": "Python 2",
   "language": "python",
   "name": "python2"
  },
  "language_info": {
   "codemirror_mode": {
    "name": "ipython",
    "version": 2
   },
   "file_extension": ".py",
   "mimetype": "text/x-python",
   "name": "python",
   "nbconvert_exporter": "python",
   "pygments_lexer": "ipython2",
   "version": "2.7.11"
  }
 },
 "nbformat": 4,
 "nbformat_minor": 0
}
