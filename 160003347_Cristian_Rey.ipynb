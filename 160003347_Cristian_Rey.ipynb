{
 "cells": [
  {
   "cell_type": "markdown",
   "metadata": {},
   "source": [
    "# 1 La definición de error relativo porcentual verdadero es:\n",
    "Seleccione una:\n",
    "a. valor verdadero - valor aproximado\n",
    "b. ( ( aprox. actual - aprox. anterior ) / aprox. actual ) x 100\n",
    "c. Ninguna de las anteriores\n",
    "d. ( ( valor verdadero - valor aproximado ) / valor verdadero ) x 100\n",
    "e. aprox. actual - aprox. anterior\n",
    "# D"
   ]
  },
  {
   "cell_type": "markdown",
   "metadata": {},
   "source": [
    "# 2 Si el valor verdadero es 43.4322629 y el valor aproximado es 43.02498, ¿Cúal es el el Error Verdadero?\n",
    "Seleccione una:\n",
    "a. -0.4072829\n",
    "b. 0.4072829\n",
    "c. 0.9377428\n",
    "d. 0.0093774\n",
    "e. 0.40728\n",
    "# B"
   ]
  },
  {
   "cell_type": "code",
   "execution_count": 65,
   "metadata": {
    "collapsed": false
   },
   "outputs": [
    {
     "name": "stdout",
     "output_type": "stream",
     "text": [
      "0.4072829\n"
     ]
    }
   ],
   "source": [
    "ver=43.4322629\n",
    "v_apr=43.02498\n",
    "err=ver-v_apr\n",
    "print err\n"
   ]
  },
  {
   "cell_type": "markdown",
   "metadata": {},
   "source": [
    "# 3 La definición de error verdadero es:\n",
    "Seleccione una:\n",
    "a. valor verdadero - valor aproximado\n",
    "b. aprox. actual - aprox. anterior\n",
    "c. Ninguna de las anteriores\n",
    "d. ( ( valor verdadero - valor aproximado ) / valor verdadero ) x 100\n",
    "e. ( ( aprox. actual - aprox. anterior ) / aprox. actual ) x 100\n",
    "# A "
   ]
  },
  {
   "cell_type": "markdown",
   "metadata": {},
   "source": [
    "# 4 Es un método numérico para hallar la raíz de una función.\n",
    "Seleccione una:\n",
    "a. Primer orden\n",
    "b. Logarítmico\n",
    "c. Ninguna de las anteriores\n",
    "d. Taylor\n",
    "e. Falsa posición\n",
    "# E"
   ]
  },
  {
   "cell_type": "markdown",
   "metadata": {},
   "source": [
    "# 5 De acuerdo con la definición del criterio del error: Es = (0.5 x 10 ^(2-n))%. ¿Cúal es el porcentaje de error tolerado para 5 cifras significativas?\n",
    "Seleccione una:\n",
    "a. 0.00005\n",
    "b. 0.05\n",
    "c. 0.0005\n",
    "d. 0.05\n",
    "e. 0.5\n",
    "# C"
   ]
  },
  {
   "cell_type": "code",
   "execution_count": 66,
   "metadata": {
    "collapsed": false
   },
   "outputs": [
    {
     "name": "stdout",
     "output_type": "stream",
     "text": [
      "0.0005\n"
     ]
    }
   ],
   "source": [
    "Es=0.5*10**(2-5)\n",
    "print Es"
   ]
  },
  {
   "cell_type": "markdown",
   "metadata": {},
   "source": [
    "# 6 De acuerdo con la definición de la derivada centrada y para f(x) = 4x^4 - 2x^2 + 7x, ¿Cúal seria el calculo de la primera derivada dado que x_{i-1} = 0, x_{i} = 0.1, x_{i+1} = 0.2?\n",
    "Seleccione una:\n",
    "a. 6.666\n",
    "b. 0.6804\n",
    "c. 6.632\n",
    "d. 6.616\n",
    "e. 6\n",
    "# C"
   ]
  },
  {
   "cell_type": "code",
   "execution_count": 67,
   "metadata": {
    "collapsed": false
   },
   "outputs": [
    {
     "name": "stdout",
     "output_type": "stream",
     "text": [
      "6.632\n"
     ]
    }
   ],
   "source": [
    "import math\n",
    "xi_=0\n",
    "xi=0.1\n",
    "xi1=0.2\n",
    "h=xi1-xi\n",
    "def eval(x):\n",
    "    return ((4*(x**4))-(2*(x**2))+(7*x))\n",
    "de_centrada=(eval(xi1)-eval(xi_))/(2*h)\n",
    "\n",
    "print de_centrada\n"
   ]
  },
  {
   "cell_type": "markdown",
   "metadata": {},
   "source": [
    "# 7 *Sea f(x_{i+1}) = f(x_{i}) + f'(x_{i})*h + ((f\"(x_{i}))/2!)*h^2, ¿A cúal definición de la aproximación de la serie de Taylor corresponde?\n",
    "Seleccione una:\n",
    "a. Tercer orden\n",
    "b. Cuarto orden\n",
    "c. Primer orden\n",
    "d. Segundo orden\n",
    "e. Orden cero\n",
    "# D"
   ]
  },
  {
   "cell_type": "markdown",
   "metadata": {},
   "source": [
    "# 8 Es una característica de los métodos numéricos.\n",
    "Seleccione una:\n",
    "a. Solo se pueden resolver de forma analítica\n",
    "b. Son exactos\n",
    "c. Ninguna de las anteriores\n",
    "d. No tienen solución\n",
    "e. Requieren de un buen número de tediosos cálculos aritméticos\n",
    "# C"
   ]
  },
  {
   "cell_type": "markdown",
   "metadata": {},
   "source": [
    "# 9 Dada la función f(x) = e^(-x) - x, ¿Cúal es el valor de la raíz usando el método de punto fijo en la iteración 15 iniciando con x_{0} = 0?\n",
    "Seleccione una:\n",
    "a. 0.566908911921\n",
    "b. 0.564879347391\n",
    "c. 0.567276232176\n",
    "d. 0.56714329\n",
    "e. 0.560115461361\n",
    "# C"
   ]
  },
  {
   "cell_type": "code",
   "execution_count": 68,
   "metadata": {
    "collapsed": false
   },
   "outputs": [
    {
     "name": "stdout",
     "output_type": "stream",
     "text": [
      "0.567276232176\n"
     ]
    }
   ],
   "source": [
    "\n",
    "xo=0\n",
    "for i in range(0, 15):\n",
    "    xi=math.exp(-xo)\n",
    "    xo=xi\n",
    "print xo"
   ]
  },
  {
   "cell_type": "markdown",
   "metadata": {},
   "source": [
    "# 10 Dada la función f(x) = sin (3x)+x^2, ¿Cúales son los valores de las aproximaciones de las derivadas hacia atras, hacia adelante y centrada para x_{i} = 0.5 y h = 0.25?\n",
    "Seleccione una:\n",
    "a. 0.37231, 2.01342, 1.19287\n",
    "b. 1.19287, 2.01342, 0.37231\n",
    "c. 2.01342, 0.37231, 1.21168\n",
    "d. 2.01342, 0.37231, 1.19287\n",
    "e. 1.21168, 2.01342, 1.19287\n"
   ]
  },
  {
   "cell_type": "code",
   "execution_count": 79,
   "metadata": {
    "collapsed": false
   },
   "outputs": [
    {
     "name": "stdout",
     "output_type": "stream",
     "text": [
      "0.372312841135\n",
      "2.01342490632\n",
      "1.19286887373\n"
     ]
    }
   ],
   "source": [
    "import math\n",
    "x=0.5\n",
    "h=0.25\n",
    "def fun(x):\n",
    "    f=math.sin(3*x)+x**2\n",
    "    return f\n",
    "r=x+h\n",
    "r2=x-h\n",
    "f1=(fun(r)-fun(x))/h\n",
    "f2=(fun(x)-fun(r2))/h\n",
    "\n",
    "f3=((fun(r)-fun(r2))/(2*h))\n",
    "print f1\n",
    "print f2\n",
    "print f3"
   ]
  },
  {
   "cell_type": "markdown",
   "metadata": {},
   "source": [
    "\n",
    "# 11 Si se representa la velocidad de un automovil en notación científica 7.290 x 10^4, ¿Cuantas son las cifras signativas?\n",
    "Seleccione una:\n",
    "a. 4\n",
    "b. 3\n",
    "c. 2\n",
    "d. 10\n",
    "e. 5\n",
    "# E"
   ]
  },
  {
   "cell_type": "markdown",
   "metadata": {},
   "source": [
    "# 12 Dada la función f(x) = x^3, ¿Cúal es el valor real y la aproximación de la serie de Taylor de primer orden para h = 0.125, cuando se evalua para ambas (función y aproximación) en x + h, donde x = 1?\n",
    "Seleccione una:\n",
    "a. 3.375 y 2.5\n",
    "b. 1.423828125 y 1.8984375\n",
    "c. 1.423828125 y 0.95703125\n",
    "d. 0.001953125 y 0\n",
    "e. 1.423828125 y 1.375\n",
    "# B"
   ]
  },
  {
   "cell_type": "code",
   "execution_count": 64,
   "metadata": {
    "collapsed": false
   },
   "outputs": [
    {
     "name": "stdout",
     "output_type": "stream",
     "text": [
      "|    1.423828125 |      1.798828125 |\n",
      "|    1.423828125 |      1.892578125 |\n",
      "|    1.423828125 |        1.8984375 |\n"
     ]
    }
   ],
   "source": [
    "#p=x**3\n",
    "\n",
    "orde=[];\n",
    "co=0\n",
    "\n",
    "orden=3\n",
    "x=1\n",
    "y=1\n",
    "re=0\n",
    "p=y**3\n",
    "h=0.125\n",
    "ev=(x+h)**3\n",
    "orde.append(3*x**2)\n",
    "orde.append(6*x)\n",
    "orde.append(6)\n",
    "resultado=ev\n",
    "while co<orden:\n",
    "    resultado=resultado+((orde[co]/math.factorial(co))*h**(co+1))\n",
    "    re=resultado\n",
    "    print'|{0:15} |  {1:15} |'.format(ev,re)\n",
    "    co=co+1"
   ]
  },
  {
   "cell_type": "markdown",
   "metadata": {},
   "source": [
    "# 13 La definición de error relativo porcentual aproximado es:\n",
    "Seleccione una:\n",
    "a. aprox. actual - aprox. anterior\n",
    "b. ( ( valor verdadero - valor aproximado ) / valor verdadero ) x 100\n",
    "c. valor verdadero - valor aproximado\n",
    "d. ( ( aprox. actual - aprox. anterior ) / aprox. actual ) x 100\n",
    "e. Ninguna de las anteriores\n",
    "# D"
   ]
  },
  {
   "cell_type": "markdown",
   "metadata": {},
   "source": [
    "# 14 Para π = 3.141592653589793238462643..., ¿Cúal es la aproximación usando 5 cifras significativas?\n",
    "Seleccione una:\n",
    "a. 3.1410\n",
    "b. 3.141592\n",
    "c. 3.1416\n",
    "d. 3.14159\n",
    "e. 3.1415\n",
    "# C"
   ]
  },
  {
   "cell_type": "markdown",
   "metadata": {},
   "source": [
    "# 15 Si se tiene la velocidad de un automovil de 48.8642138 km/h y se requiere que el velocimetro use solamente cinco cifras significativas, ¿Qué valor debería mostrar?\n",
    "Seleccione una:\n",
    "a. 48.87\n",
    "b. 48.86421\n",
    "c. 48.864\n",
    "d. 48.8642\n",
    "e. 48.8642138\n",
    "# C"
   ]
  }
 ],
 "metadata": {
  "kernelspec": {
   "display_name": "Python 2",
   "language": "python",
   "name": "python2"
  },
  "language_info": {
   "codemirror_mode": {
    "name": "ipython",
    "version": 2
   },
   "file_extension": ".py",
   "mimetype": "text/x-python",
   "name": "python",
   "nbconvert_exporter": "python",
   "pygments_lexer": "ipython2",
   "version": "2.7.11"
  }
 },
 "nbformat": 4,
 "nbformat_minor": 0
}
