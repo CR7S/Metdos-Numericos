{
 "cells": [
  {
   "cell_type": "code",
   "execution_count": 7,
   "metadata": {
    "collapsed": false
   },
   "outputs": [
    {
     "name": "stdout",
     "output_type": "stream",
     "text": [
      "Original\n",
      "[0, 2, 5]\n",
      "[1, 0, 1]\n",
      "[8, 3, 0]\n",
      "TRANSPUESTA\n",
      "[0, 1, 8]\n",
      "[2, 0, 3]\n",
      "[5, 1, 0]\n"
     ]
    }
   ],
   "source": [
    "matriz = [[0,2,5],[1,0,1],[8,3,0]]\n",
    " \n",
    "def print_r(matriz):\n",
    "    for fila in matriz:\n",
    "        print fila\n",
    " \n",
    "def transpuesta(matriz):\n",
    "    rows = len(matriz)\n",
    "    cols = len(matriz[0])\n",
    "    return [[matriz[j][i] for j in xrange(rows)] for i in xrange(cols)]\n",
    " \n",
    "print \"Original\"\n",
    "print_r(matriz)\n",
    "print \"TRANSPUESTA\"\n",
    "print_r(transpuesta(matriz))"
   ]
  },
  {
   "cell_type": "code",
   "execution_count": null,
   "metadata": {
    "collapsed": true
   },
   "outputs": [],
   "source": []
  }
 ],
 "metadata": {
  "kernelspec": {
   "display_name": "Python 2",
   "language": "python",
   "name": "python2"
  },
  "language_info": {
   "codemirror_mode": {
    "name": "ipython",
    "version": 2
   },
   "file_extension": ".py",
   "mimetype": "text/x-python",
   "name": "python",
   "nbconvert_exporter": "python",
   "pygments_lexer": "ipython2",
   "version": "2.7.11"
  }
 },
 "nbformat": 4,
 "nbformat_minor": 0
}
