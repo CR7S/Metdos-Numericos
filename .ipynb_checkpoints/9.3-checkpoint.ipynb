{
 "cells": [
  {
   "cell_type": "code",
   "execution_count": 18,
   "metadata": {
    "collapsed": false
   },
   "outputs": [
    {
     "name": "stdout",
     "output_type": "stream",
     "text": [
      "\n",
      "a)\n",
      "[A]x[B]:   [[4.0, 15], [8.0, 29], [9.0, 29]]\n",
      "\n",
      "[A]x[C]:   [[-16, 4], [-24, 4], [2, -10]]\n",
      "\n",
      "[B]x[C]:   [[-7, 1], [-5.0, 1.0]]\n",
      "\n",
      "[C]x[B] es:[[1.0, 2], [-2.5, -7]]\n",
      "\n",
      "b)\n",
      "*La multiplicacion [B]x[A]: \n",
      "No se pueden multiplicar.\n",
      "\n",
      "   *La multiplicacion [C]x[A]: \n",
      "No se pueden multiplicar.\n",
      "\n",
      "c) [B]x[C] NO es igual a [C]x[B] por o tanto no cumple la p conmutativa\n"
     ]
    }
   ],
   "source": [
    "A=[[1,6],[3,10],[7,4]]\n",
    "B=[[1,3],[0.5, 2]]\n",
    "C=[[2,-2],[-3,1]]\n",
    "def multiplicacion(a,b):\n",
    "    product=[]\n",
    "    for i in range(len(a)):\n",
    "        product.append([0]*(len(b[0])))\n",
    "    for i in range(len(a)):\n",
    "        for j in range(len(b[0])):\n",
    "            for k in range(len(a[0])):\n",
    "                product[i][j]+= a[i][k]*b[k][j]\n",
    "    return product\n",
    "\n",
    "def verificar(matriz1,matriz2):\n",
    "    if(len(matriz1[0])!=len(matriz2)):\n",
    "        print \"No se pueden multiplicar.\"\n",
    "    if(len(matriz1[0])==len(matriz2)):\n",
    "        resultado=multiplicacion(matriz1,matriz2)\n",
    "        return resultado\n",
    "    \n",
    "print \"\\na)\\n[A]x[B]:   \"+str(verificar(A,B))\n",
    "print \"\\n[A]x[C]:   \"+str(verificar(A,C))\n",
    "print \"\\n[B]x[C]:   \"+str(verificar(B,C))\n",
    "print \"\\n[C]x[B] es:\"+str(verificar(C,B))\n",
    "\n",
    "print \"\\nb)\\n*La multiplicacion [B]x[A]: \"\n",
    "verificar(B,A)\n",
    "print \"\\n   *La multiplicacion [C]x[A]: \"\n",
    "verificar(C,A)\n",
    "print \"\\nc) [B]x[C] NO es igual a [C]x[B] por o tanto no cumple la p conmutativa\""
   ]
  },
  {
   "cell_type": "code",
   "execution_count": null,
   "metadata": {
    "collapsed": true
   },
   "outputs": [],
   "source": []
  }
 ],
 "metadata": {
  "kernelspec": {
   "display_name": "Python 2",
   "language": "python",
   "name": "python2"
  },
  "language_info": {
   "codemirror_mode": {
    "name": "ipython",
    "version": 2
   },
   "file_extension": ".py",
   "mimetype": "text/x-python",
   "name": "python",
   "nbconvert_exporter": "python",
   "pygments_lexer": "ipython2",
   "version": "2.7.11"
  }
 },
 "nbformat": 4,
 "nbformat_minor": 0
}
