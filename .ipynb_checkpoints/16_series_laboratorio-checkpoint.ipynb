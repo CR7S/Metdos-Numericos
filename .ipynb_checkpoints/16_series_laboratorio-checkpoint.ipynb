{
 "cells": [
  {
   "cell_type": "code",
   "execution_count": 53,
   "metadata": {
    "collapsed": false
   },
   "outputs": [
    {
     "name": "stdout",
     "output_type": "stream",
     "text": [
      "| Valor verdadero |  Valor aproximado | Error verdadero | Error relativo %  |\n",
      "|   1.6487212707 |             1.6484375 | 0.000283770700128 | 0.0172145258846%|\n"
     ]
    }
   ],
   "source": [
    "import math\n",
    "n=100\n",
    "n_co=0\n",
    "x=0.5\n",
    "apro=3\n",
    "resultado=0\n",
    "while n>n_co:\n",
    "    if n_co==0:\n",
    "        ap_s=1\n",
    "    ap_s=(x**n_co)/(math.factorial(n_co))\n",
    "    n_co=n_co+1\n",
    "    resultado=resultado+ap_s\n",
    "    error_verdadero=math.exp(x)-resultado\n",
    "    error_relativo_p=(error_verdadero/resultado)*100\n",
    "    error_soportado=(0.5*10**(2-apro))\n",
    "    if error_relativo_p<error_soportado:\n",
    "            break\n",
    "    \n",
    "print'|{0:15} |  {1:15} | {2:15} | {3:15} |'.format(' Valor verdadero','Valor aproximado','Error verdadero','Error relativo % ' )\n",
    "print '|{0:15} |  {1:20} | {2:15} | {3:15}%|'.format(math.exp(x),resultado,error_verdadero,error_relativo_p)"
   ]
  },
  {
   "cell_type": "code",
   "execution_count": null,
   "metadata": {
    "collapsed": true
   },
   "outputs": [],
   "source": []
  }
 ],
 "metadata": {
  "kernelspec": {
   "display_name": "Python 2",
   "language": "python",
   "name": "python2"
  },
  "language_info": {
   "codemirror_mode": {
    "name": "ipython",
    "version": 2
   },
   "file_extension": ".py",
   "mimetype": "text/x-python",
   "name": "python",
   "nbconvert_exporter": "python",
   "pygments_lexer": "ipython2",
   "version": "2.7.11"
  }
 },
 "nbformat": 4,
 "nbformat_minor": 0
}
