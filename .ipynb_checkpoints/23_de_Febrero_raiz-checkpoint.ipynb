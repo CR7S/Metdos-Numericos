{
 "cells": [
  {
   "cell_type": "code",
   "execution_count": null,
   "metadata": {
    "collapsed": false
   },
   "outputs": [],
   "source": [
    "import math\n",
    "gra=9.8\n",
    "masa=68.1\n",
    "tiempo=10\n",
    "velocidad=40\n",
    "valor_menor=12\n",
    "valor_mayor=16\n",
    "variable_estado=1\n",
    "variable_comprobacion=False\n",
    "\n",
    "\n",
    "def funcion(coeficiente):\n",
    "    funcion=((gra*masa)/coeficiente)*(1-math.exp(-(coeficiente/masa)*tiempo))-velocidad\n",
    "    return funcion\n",
    "\n",
    "\n",
    "def aproximacion_raiz():\n",
    "    if variable_comprobacion:\n",
    "        X_media=(valor_mayor+valor_menor)/2\n",
    "        return X_media\n",
    "    \n",
    "    \n",
    "def subintervalo(m):\n",
    "    raiz=funcion(valor_mayor)*funcion(m)\n",
    "    return m\n",
    "    if raiz>0 or raiz<0:\n",
    "        m=X_media\n",
    "        return X_media\n",
    "        aproximacion_raiz()\n",
    "    if raiz==0:\n",
    "        m=X_media\n",
    "        valor_menor=m\n",
    "        aproximacion_raiz()\n",
    "        variable_estado=0\n",
    "        \n",
    "while variable_estado==1:\n",
    "    contador=contador+1\n",
    "    if contador==100:\n",
    "        break\n",
    "    funcion(valor_mayor)\n",
    "    funcion(valor_menor)\n",
    "    if (funcion(valor_mayor)<0 and funcion(valor_menor)>0) or (funcion(valor_mayor)>0 and funcion(valor_menor)<0):\n",
    "        variable_comprobacion=True\n",
    "    else:\n",
    "        print \"asdadsas\"\n",
    "        variable_comprobacion=False\n",
    "        aproximacion_raiz()\n",
    "        print subintervalo(valor_menor)"
   ]
  }
 ],
 "metadata": {
  "kernelspec": {
   "display_name": "Python 2",
   "language": "python",
   "name": "python2"
  },
  "language_info": {
   "codemirror_mode": {
    "name": "ipython",
    "version": 2
   },
   "file_extension": ".py",
   "mimetype": "text/x-python",
   "name": "python",
   "nbconvert_exporter": "python",
   "pygments_lexer": "ipython2",
   "version": "2.7.11"
  }
 },
 "nbformat": 4,
 "nbformat_minor": 0
}
