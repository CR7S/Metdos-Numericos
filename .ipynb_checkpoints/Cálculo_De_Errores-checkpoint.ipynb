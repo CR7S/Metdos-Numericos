{
 "cells": [
  {
   "cell_type": "markdown",
   "metadata": {
    "collapsed": true
   },
   "source": [
    "# Script Paracaidista-Errores"
   ]
  },
  {
   "cell_type": "markdown",
   "metadata": {},
   "source": [
    "Cálculo de error verdadero, error relativo porcentual verdadero, error aproximado."
   ]
  },
  {
   "cell_type": "code",
   "execution_count": 8,
   "metadata": {
    "collapsed": false
   },
   "outputs": [
    {
     "name": "stdout",
     "output_type": "stream",
     "text": [
      "Tiempo    Velocidad Real    Velocidad Aprox    Err. Verd    Err. Porc    Err. Aprox\n",
      "--------  ----------------  -----------------  -----------  -----------  ------------\n"
     ]
    }
   ],
   "source": [
    "from tabulate import tabulate \n",
    "import math \n",
    "import matplotlib.pyplot as plt \n",
    "\n",
    "g, c, m, vA, Es, vel, Erv, Erpv= 9.8, 12.5, 68.1, 0.0, 0.00005, 0.0, 0.0, 0.0\n",
    "velAn = []\n",
    "velAprx = []\n",
    "tiempo = []\n",
    "Ev = []\n",
    "Epv = []\n",
    "Ea=[]\n",
    "tab=[]\n",
    "t, i,t1, t2, j = 0, 0, 0, 2, 0\n",
    "Eaprox= 0.0 \n",
    "\n",
    "while(Eaprox>Es ):\n",
    "    #Velocidad analitica\n",
    "    tiempo.append(t)\n",
    "    i=t/2\n",
    "    vA=((g*m)/c)*(1-math.exp(-(c/m)*tiempo[i]))\n",
    "    velAn.append(vA)\n",
    "    print \"esto es tiempo\"\n",
    "    print tiempo\n",
    "    print \"esto es velocidad analiticaa\"\n",
    "    print velAn\n",
    "    #Velocidad Aproximada\n",
    "    if(t==0):\n",
    "        v=0.0\n",
    "        velAprx.append(v)\n",
    "    else: \n",
    "        v = vel +(g-(c/m)*vel)*(t2-t1)\n",
    "        vel=v\n",
    "        t1=t2\n",
    "        t2=t1+2\n",
    "        velAprx.append(v)\n",
    "        \n",
    "    t+=2\n",
    "    print \"esto es velocidad aprx\"\n",
    "    print velAprx\n",
    "    #Error verdadero\n",
    "    Erv=math.fabs(velAn[i]-velAprx[i])\n",
    "    Ev.append(Erv)\n",
    "    print \"error verdadero\"\n",
    "    print Ev\n",
    "    #Error relativo porcentual verdadero\n",
    "    if velAprx[i]==0: \n",
    "        Erpv=0.0\n",
    "        Epv.append(Erpv)\n",
    "    \n",
    "    else:\n",
    "        Erpv=(Ev[i]/velAprx[i])*100\n",
    "        Epv.append(Erpv)\n",
    "    \n",
    "    print \"esto es error relativo porcentual verdadero\"\n",
    "    print Epv\n",
    "    #Error aproximado\n",
    "    if velAn[i]==0:\n",
    "        Eaprox = 0.0\n",
    "        Ea.append(Eaprox)\n",
    "     \n",
    "    else:\n",
    "        j=i-1\n",
    "        Eaprox=math.fabs(((velAprx[i]-velAprx[j])*100)/velAprx[i])\n",
    "        \n",
    "        if str(Eaprox)<=\"0.05\":\n",
    "            break\n",
    "        Ea.append(Eaprox)\n",
    "    \n",
    "    print \"esto es error aproximado\"\n",
    "    print Ea\n",
    "    #Mostrando en tablas \n",
    "    tab.append([tiempo[i],velAn[i],velAprx[i],Ev[i],Epv[i],Ea[i]])\n",
    "\n",
    "plt.title(\"VELOCIDADES\")\n",
    "plt.axis([0,100,0,100])\n",
    "plt.ylabel('Tiempo (s)')\n",
    "plt.xlabel('Velocidad (m/s)')\n",
    "plt.plot([tiempo[0:]],[velAn[0:]], 'bs')\n",
    "plt.plot([tiempo[0:]],[velAprx[0:]], 'go')\n",
    "plt.show()\n",
    "    \n",
    "plt.title(\"ERRORES\")\n",
    "plt.axis([0,100,0,20])\n",
    "plt.ylabel('Errores')\n",
    "plt.xlabel('Tiempo(s)')\n",
    "plt.plot([tiempo[0:]],[Ev[0:]], 'bo')\n",
    "plt.plot([tiempo[0:]],[Epv[0:]], 'go')\n",
    "plt.plot([tiempo[0:]], [Ea[0:]], 'yo')\n",
    "plt.show()\n",
    "print tabulate(tab,headers=[\"Tiempo\",\"Velocidad Real\", \"Velocidad Aprox\",\"Err. Verd\",\"Err. Porc\", \"Err. Aprox\"])\n",
    "\n",
    "    "
   ]
  },
  {
   "cell_type": "code",
   "execution_count": null,
   "metadata": {
    "collapsed": true
   },
   "outputs": [],
   "source": []
  }
 ],
 "metadata": {
  "kernelspec": {
   "display_name": "Python 2",
   "language": "python",
   "name": "python2"
  },
  "language_info": {
   "codemirror_mode": {
    "name": "ipython",
    "version": 2
   },
   "file_extension": ".py",
   "mimetype": "text/x-python",
   "name": "python",
   "nbconvert_exporter": "python",
   "pygments_lexer": "ipython2",
   "version": "2.7.11"
  }
 },
 "nbformat": 4,
 "nbformat_minor": 0
}
