{
 "cells": [
  {
   "cell_type": "markdown",
   "metadata": {},
   "source": [
    "# Implementación de métodos cerrados y abiertos, y comparación de sus errores porcentual verdadero"
   ]
  },
  {
   "cell_type": "code",
   "execution_count": 2,
   "metadata": {
    "collapsed": false
   },
   "outputs": [
    {
     "name": "stdout",
     "output_type": "stream",
     "text": [
      "\n",
      "Raices de la funcion por metodos abiertos y cerrados\n",
      "\n",
      "| Iteracion   | Biseccion   | Fal Pos   | Pto fijo   | Newton-Raphson   | Secante   | Secante Mod   |\n",
      "||\n",
      "\n",
      "Error relativo porcentual verdadero de cada metodo\n",
      "\n",
      "| Iter   | Error B   | Error FP   | Error PtoFijo   | Error Nwt   | Error Sec   | Error SecMo   |\n",
      "||\n"
     ]
    },
    {
     "data": {
      "image/png": "[encoded data removed]",
      "text/plain": [
       "<matplotlib.figure.Figure at 0x397d860>"
      ]
     },
     "metadata": {},
     "output_type": "display_data"
    }
   ],
   "source": [
    "import math\n",
    "from tabulate import tabulate\n",
    "import matplotlib.pyplot as plt\n",
    "%matplotlib inline\n",
    "\n",
    "xVerd=0.56714329\n",
    "xl, xu, xr, fA, fB, f1, f2, f3, xl2, xu2, xr2=0.0, 1.0, 0.0, 1.0, 1.0, 1.0, 1.0, 1.0, 0.0, 1.0, 0.0\n",
    "aux1,aux2,aux3,aux4,aux5,aux6, aux7,aux8,aux9,aux10,aux11,aux12=[],[],[],[],[],[],[],[],[],[],[],[]\n",
    "tabla, tablaErrores, iteraciones=[],[],[]\n",
    "Error1,Error2,Error3,Error4,Error5, Error6=[],[],[],[],[],[]\n",
    "raizB,raizFP,raizPF,raizNR,raizS,raizSM=[],[],[],[],[],[]\n",
    "cont=0\n",
    "\n",
    "def evaluar(x):\n",
    "    fx=math.exp(-x)-x\n",
    "    return fx\n",
    "\n",
    "#punto fijo\n",
    "xo=0\n",
    "for i in range(0, len(Error2)):\n",
    "    \n",
    "    if(i==0):\n",
    "        raizPF.append(0)\n",
    "        Error3.append(100)\n",
    "    else: \n",
    "        xi=math.exp(-xo)\n",
    "        xo=xi\n",
    "        raizPF.append(xo)\n",
    "        erpv3=math.fabs(((xVerd-xi)/xVerd)*100)\n",
    "        Error3.append(erpv3)\n",
    "\n",
    "for d in range (len(Error5)):\n",
    "    cont+=1\n",
    "    iteraciones.append(cont)\n",
    "    aux1.append(Error1[d])\n",
    "    aux2.append(Error2[d])\n",
    "    aux3.append(raizB[d])\n",
    "    aux4.append(raizFP[d])\n",
    "    aux5.append(raizPF[d])\n",
    "    aux6.append(Error3[d])\n",
    "    aux7.append(raizNR[d])\n",
    "    aux8.append(Error4[d])\n",
    "    aux9.append(raizS[d])\n",
    "    aux10.append(Error5[d])\n",
    "    aux11.append(raizSM[d])\n",
    "    aux12.append(Error6[d])\n",
    "    tabla.append([iteraciones[d], aux3[d], aux4[d], aux5[d], aux7[d],aux9[d],aux11[d]])\n",
    "    tablaErrores.append([iteraciones[d], str(aux1[d])+\"%\", str(aux2[d])+\"%\", str(aux6[d])+\"%\", str(aux8[d])+\"%\",str(aux10[d])+\"%\",str(aux12[d])+\"%\"])\n",
    "\n",
    "print \"\\nRaices de la funcion por metodos abiertos y cerrados\\n\"\n",
    "print tabulate(tabla, headers=[\"Iteracion\", \"Biseccion\", \"Fal Pos\", \"Pto fijo\", \"Newton-Raphson\", \"Secante\", \"Secante Mod\"], tablefmt=\"pipe\")\n",
    "print \"\\nError relativo porcentual verdadero de cada metodo\\n\"\n",
    "print tabulate(tablaErrores, headers=[\"Iter\", \"Error B\", \"Error FP\", \"Error PtoFijo\",\"Error Nwt\", \"Error Sec\", \"Error SecMo\"], tablefmt=\"pipe\", floatfmt=\".6f\")\n",
    "\n",
    "plt.title(\"COMPARACION ERRORES DE METODOS\")\n",
    "plt.axis([0, 10, 0, 100])\n",
    "plt.ylabel('Errores relativo porcentual verdadero')\n",
    "plt.xlabel('Iteraciones')\n",
    "plt.plot(iteraciones, aux1, 'b-', label=\"Error Biseccion\")\n",
    "plt.plot(iteraciones, aux2, 'r-', label=\"Error Falsa Posicion\")\n",
    "plt.plot(iteraciones, aux6, 'y-', label=\"Error Punto Fijo\")\n",
    "plt.plot(iteraciones, aux8, 'g-', label=\"Error Newton-Raphson\")\n",
    "plt.plot(iteraciones, aux10, 'm-', label=\"Error Secante\")\n",
    "plt.plot(iteraciones, aux12, 'c-', label=\"Error Sec Modificada\")\n",
    "plt.legend(loc = 'upper right', numpoints = 2)\n",
    "plt.show()"
   ]
  },
  {
   "cell_type": "code",
   "execution_count": null,
   "metadata": {
    "collapsed": true
   },
   "outputs": [],
   "source": []
  }
 ],
 "metadata": {
  "kernelspec": {
   "display_name": "Python 2",
   "language": "python",
   "name": "python2"
  },
  "language_info": {
   "codemirror_mode": {
    "name": "ipython",
    "version": 2
   },
   "file_extension": ".py",
   "mimetype": "text/x-python",
   "name": "python",
   "nbconvert_exporter": "python",
   "pygments_lexer": "ipython2",
   "version": "2.7.11"
  }
 },
 "nbformat": 4,
 "nbformat_minor": 0
}
